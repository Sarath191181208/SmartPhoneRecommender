{
 "cells": [
  {
   "cell_type": "markdown",
   "metadata": {},
   "source": [
    "The detials are scraped from the website : https://phonedb.net/"
   ]
  },
  {
   "cell_type": "code",
   "execution_count": 15,
   "metadata": {},
   "outputs": [
    {
     "name": "stderr",
     "output_type": "stream",
     "text": [
      "  0%|          | 15/7938 [00:30<48:38,  2.71it/s]"
     ]
    }
   ],
   "source": [
    "from bs4 import BeautifulSoup\n",
    "import pandas as pd\n",
    "import aiohttp\n",
    "import asyncio\n",
    "from pathlib import Path\n",
    "import numpy as np\n",
    "import seaborn as sns\n",
    "from tqdm.notebook import tqdm"
   ]
  },
  {
   "cell_type": "code",
   "execution_count": null,
   "metadata": {},
   "outputs": [],
   "source": [
    "def get_phone_db_link(filter: int = 0) -> str:\n",
    "    return fr'https://phonedb.net/index.php?m=device&s=list&filter={filter}'\n",
    "\n",
    "async def get_phone_db_page(session: aiohttp.ClientSession, filter: int = 0) -> None:\n",
    "    async with session.get(get_phone_db_link(filter)) as response:\n",
    "        # write to a file with filter as the name\n",
    "        with open(f'./data/{filter}.html', 'w', encoding='utf-8') as f:\n",
    "            f.write(await response.text())\n",
    "\n",
    "\n",
    "async def get_phone_db_pages(session: aiohttp.ClientSession, filters: list[int]) -> None:\n",
    "    return await asyncio.gather(*[get_phone_db_page(session, filter) for filter in filters])\n",
    "\n",
    "async def main():\n",
    "    async with aiohttp.ClientSession() as session:\n",
    "        await get_phone_db_pages(session, range(29*200, 29*300, 29))\n",
    "\n",
    "await main()\n"
   ]
  },
  {
   "cell_type": "code",
   "execution_count": null,
   "metadata": {},
   "outputs": [],
   "source": [
    "from typing import Union\n",
    "\n",
    "def extract_phone_db_content(content_block: list) -> Union[dict, None]:\n",
    "    if len(content_block) < 4 or content_block is None: return None\n",
    "    return {\n",
    "        'id': hash(content_block[0].text),\n",
    "        'title': content_block[0].text,\n",
    "        'img_link': content_block[1].img['src'],\n",
    "        'phone_link': content_block[2]['href']\n",
    "    }\n",
    "def get_phone_db_page_content(page_html: str) -> list:\n",
    "    soup = BeautifulSoup(page_html, 'html.parser')\n",
    "    content_blocks = soup.find_all('div', class_='content_block')\n",
    "    return [content_block.find_all('a') for content_block in content_blocks]"
   ]
  },
  {
   "cell_type": "code",
   "execution_count": null,
   "metadata": {},
   "outputs": [],
   "source": [
    "# open all the html files in data\\root_page_data and extract the content\n",
    "from tqdm.notebook import tqdm\n",
    "\n",
    "def get_phone_db_content() -> list:\n",
    "    content = []\n",
    "    err_files = []\n",
    "    p = Path(\"./data/root_page_data/\")\n",
    "    pbar = tqdm(total=300)\n",
    "\n",
    "    for file_name in p.glob(\"*.html\"):\n",
    "        pbar.update(1); print(\"\", end=\"\")\n",
    "        with open(file_name, 'r', encoding='utf-8') as f:\n",
    "            page_content_list = get_phone_db_page_content(f.read())\n",
    "            try:\n",
    "                extraced_content = [extract_phone_db_content(content_block) for content_block in page_content_list]\n",
    "            except TypeError:\n",
    "                err_files.append(file_name)\n",
    "            content.extend(extraced_content)\n",
    "\n",
    "    pbar.close()\n",
    "    print(f\"Error files: {err_files}\")\n",
    "    return content\n",
    "\n",
    "phone_db_content = get_phone_db_content()"
   ]
  },
  {
   "cell_type": "code",
   "execution_count": null,
   "metadata": {},
   "outputs": [],
   "source": [
    "for k, v in phone_db_content[0].items():\n",
    "    print(f\"{k}: {v}\")"
   ]
  },
  {
   "cell_type": "code",
   "execution_count": null,
   "metadata": {},
   "outputs": [],
   "source": [
    "phone_db_content = [content for content in phone_db_content if content is not None]\n",
    "# df = pd.DataFrame(phone_db_content)\n",
    "# df.to_csv('./data/phone_db_content.csv', index=False)"
   ]
  },
  {
   "cell_type": "code",
   "execution_count": null,
   "metadata": {},
   "outputs": [],
   "source": [
    "# get the filenames from data/single_phone_page_data\n",
    "\n",
    "# from pathlib import Path\n",
    "\n",
    "# p = Path(\"./data/single_phone_page_data/\")\n",
    "# file_names_lst = [file_name for file_name in p.glob(\"*.html\")]\n",
    "# file_names_id_lst = [int(file_name.stem) for file_name in file_names_lst]\n",
    "# file_names_id_lst[1:10]"
   ]
  },
  {
   "cell_type": "code",
   "execution_count": null,
   "metadata": {},
   "outputs": [],
   "source": [
    "# phone_db_content = [content for content in phone_db_content if content['id'] not in file_names_id_lst]"
   ]
  },
  {
   "cell_type": "code",
   "execution_count": null,
   "metadata": {},
   "outputs": [],
   "source": [
    "from tqdm.notebook import tqdm\n",
    "\n",
    "async def get_single_page_html(session: aiohttp.ClientSession, ph_dict: dict[str, str]) -> None:\n",
    "    link = \"https://phonedb.net/\" + ph_dict['phone_link']\n",
    "    _id = ph_dict['id']\n",
    "    async with session.get(link) as response:\n",
    "        with open(f'./data/single_phone_page_data/{_id}.html', 'w', encoding='utf-8') as f:\n",
    "            f.write(await response.text())\n",
    "    \n",
    "async def get_phone_pages(session: aiohttp.ClientSession, phone_db_content: list[dict[str, str]]) -> None:\n",
    "    return await asyncio.gather(*[get_single_page_html(session, ph_dict) for ph_dict in phone_db_content])\n",
    "\n",
    "timeout_mins = aiohttp.ClientTimeout(20 * 60)\n",
    "async def main():\n",
    "    async with aiohttp.ClientSession(timeout=timeout_mins) as session:\n",
    "        await get_phone_pages(session, phone_db_content)\n",
    "\n",
    "await main()\n"
   ]
  },
  {
   "cell_type": "code",
   "execution_count": 3,
   "metadata": {},
   "outputs": [],
   "source": [
    "p = Path(\"./data/single_phone_page_data/\")\n",
    "file_names_lst = [file_name for file_name in p.glob(\"*.html\")]"
   ]
  },
  {
   "cell_type": "code",
   "execution_count": null,
   "metadata": {},
   "outputs": [],
   "source": [
    "def get_single_phone_page_content(page_html: str) -> pd.DataFrame:\n",
    "    df = pd.read_html(page_html)\n",
    "    return df[0]\n",
    "\n",
    "def save_phone_content(df: pd.DataFrame, file_name: str) -> None:\n",
    "    df.to_csv(f'./data/individual_phone_data/{file_name}.csv', index=False)\n",
    "\n",
    "def parse_single_phone_page(file_name: Path) -> None:\n",
    "    with open(file_name, 'r', encoding='utf-8') as f:\n",
    "        df = get_single_phone_page_content(f.read())\n",
    "        save_phone_content(df, file_name.stem)\n",
    "        return True\n",
    "    \n",
    "from tqdm.notebook import tqdm\n",
    "\n",
    "ex_list = []\n",
    "pbar = tqdm(total=len(file_names_lst))\n",
    "for file_name in file_names_lst:\n",
    "    try: \n",
    "        pbar.update(1)\n",
    "        parse_single_phone_page(file_name)\n",
    "    except ValueError: # i.e no table in the html\n",
    "        ex_list.append(file_name)\n",
    "    \n",
    "\n",
    "print(ex_list)"
   ]
  },
  {
   "cell_type": "code",
   "execution_count": 4,
   "metadata": {},
   "outputs": [],
   "source": [
    "# read all the files from data/individual_phone_data\n",
    "p = Path(\"./data/individual_phone_data/\")\n",
    "file_names_lst = [file_name for file_name in p.glob(\"*.csv\")]\n",
    "\n",
    "def transorm_df(df: pd.DataFrame, _id: int) -> pd.DataFrame:\n",
    "    df = df.T\n",
    "    df.columns = df.iloc[0]\n",
    "    df = df.drop(df.index[0])\n",
    "    df = df.reset_index()\n",
    "    df = df.drop(columns=['index', 'Introduction:'])\n",
    "    return df\n",
    "\n",
    "# create a list of dataframes\n",
    "df_lst = []\n",
    "for file_name in file_names_lst:\n",
    "    new_df = transorm_df( pd.read_csv(file_name), int(file_name.stem) )\n",
    "    df_lst.append(new_df)"
   ]
  },
  {
   "cell_type": "code",
   "execution_count": 5,
   "metadata": {},
   "outputs": [],
   "source": [
    "columns = [\n",
    "    \"Brand\", \"Model\", \"Brief\", \"Released\", \"Announced\",\n",
    "    \"Width\", \"Height\", \"Depth\", \"Weight\", \"Platform\",\n",
    "    \"Operating System\", \"CPU Clock\", \"CPU\", \"RAM Type\", \"RAM Capacity\",\n",
    "    \"Display Diagonal\", \"Display Resolution\", \"Pixel Size\", \"Display Type\",\n",
    "    \"Display Width\", \"Display Height\", \"Display Refresh Rate\", \"Display Colors\", \"Supported Cellular Bands\",\n",
    "    \"Supported Cellular Networks\", \"Expansion Interfaces\", \"USB\", \"USB Services\", \"USB Connector\",\n",
    "    \"Bluetooth profiles\", \"Wireless LAN\", \"WLAN Controller IC\", \"NFC\",\n",
    "    \"Supported GPS protocol(s)\", \"Camera Resolution\", \"Number of effective pixels\", \"Aperture (W)\",\n",
    "    \"Secondary Camera Resolution\", \"Secondary Camera Number of effective pixels\", \"Secondary Camera Aperture (W)\", \"Battery\",\n",
    "    \"Nominal Cell Voltage (1st cell)\", \"Nominal Cell Capacity (1st cell)\", \"Estimated Battery Life\"\n",
    "]\n",
    "\n",
    "tst_lst_df = []\n",
    "for df in df_lst:\n",
    "    # fill null if the column isn't found \n",
    "    for col in columns:\n",
    "        if col not in df.columns:\n",
    "            df[col] = np.nan\n",
    "    tst_lst_df.append(df)\n",
    "# Video Recording\n",
    "# 2nd vid rec"
   ]
  },
  {
   "cell_type": "code",
   "execution_count": 6,
   "metadata": {},
   "outputs": [],
   "source": [
    "df_lst_filtered = [  df[df.columns.intersection(columns)] for df in df_lst ]\n",
    "tst_lst_df = pd.concat(df_lst_filtered, ignore_index=True)"
   ]
  },
  {
   "cell_type": "code",
   "execution_count": 10,
   "metadata": {},
   "outputs": [],
   "source": [
    "df_merged = pd.concat(df_lst_filtered, ignore_index=True)"
   ]
  },
  {
   "cell_type": "code",
   "execution_count": 7,
   "metadata": {},
   "outputs": [
    {
     "data": {
      "text/plain": [
       "<AxesSubplot:xlabel='0'>"
      ]
     },
     "execution_count": 7,
     "metadata": {},
     "output_type": "execute_result"
    },
    {
     "data": {
      "image/png": "[encoded data removed]",
      "text/plain": [
       "<Figure size 1440x720 with 1 Axes>"
      ]
     },
     "metadata": {
      "needs_background": "light"
     },
     "output_type": "display_data"
    }
   ],
   "source": [
    "# increase plot size\n",
    "import matplotlib.pyplot as plt\n",
    "plt.figure(figsize=(20, 10))\n",
    "sns.heatmap(tst_lst_df.isnull(), cbar=False)"
   ]
  },
  {
   "cell_type": "code",
   "execution_count": 79,
   "metadata": {},
   "outputs": [
    {
     "data": {
      "text/plain": [
       "Index(['Brand', 'Model', 'Released', 'Announced', 'Manufacturer',\n",
       "       'General Extras', 'Device Category',\n",
       "       'Collapse datasheet | Add to compare Physical Attributes:', 'Width',\n",
       "       'Height',\n",
       "       ...\n",
       "       'Power Supply:', 'Battery', 'Nominal Cell Capacity (1st cell)',\n",
       "       'Geographical Attributes:', 'Market Countries', 'Market Regions',\n",
       "       'Datasheet Attributes:', 'Data Integrity', 'Added', 'id'],\n",
       "      dtype='object', name='0', length=135)"
      ]
     },
     "execution_count": 79,
     "metadata": {},
     "output_type": "execute_result"
    }
   ],
   "source": [
    "cols = [\n",
    "    \"Video Recording\",\n",
    "    \"Secondary Video Recording\"\n",
    "]\n",
    "\n",
    "tst_df_lst = df_lst.copy()\n",
    "\n",
    "# get the index and merge the next  index data with the  current index data\n",
    "for i in range(len(tst_df_lst)):\n",
    "    for col in cols:\n",
    "        if col in tst_df_lst[i].columns:\n",
    "            idx = tst_df_lst[i].columns.get_loc(col)\n",
    "            tst_df_lst[i].iloc[:, idx] = tst_df_lst[i].iloc[:, idx] + tst_df_lst[i].iloc[:, idx + 1]\n",
    "            tst_df_lst[i] = tst_df_lst[i].drop(columns=[tst_df_lst[i].columns[idx + 1]])\n"
   ]
  },
  {
   "cell_type": "code",
   "execution_count": 82,
   "metadata": {},
   "outputs": [],
   "source": [
    "df_lst = tst_df_lst.copy()\n",
    "# filter out the columns that are not in the columns list in the df_lst \n",
    "df_lst_filtered = [  df[df.columns.intersection(columns)] for df in df_lst ]"
   ]
  },
  {
   "cell_type": "code",
   "execution_count": 83,
   "metadata": {},
   "outputs": [],
   "source": [
    "df_merged = pd.concat(df_lst_filtered, ignore_index=True)"
   ]
  },
  {
   "cell_type": "code",
   "execution_count": 9,
   "metadata": {},
   "outputs": [],
   "source": [
    "df_merged.to_csv('./data/phone_db_merged.csv', index=False)"
   ]
  },
  {
   "cell_type": "code",
   "execution_count": 119,
   "metadata": {},
   "outputs": [
    {
     "data": {
      "text/plain": [
       "0                             Compass Z516\n",
       "1                           Honor 9 Lite  \n",
       "2                          BV7000 Pro 4G  \n",
       "3                             7.2 Global  \n",
       "4                    Z6 Standard Edition  \n",
       "                       ...                \n",
       "7933    SM-J250N Galaxy J2 Pro 2018 LTE KR\n",
       "7934                          Xperia XZ1  \n",
       "7935                             S5 Plus  \n",
       "7936                             P2 Lite  \n",
       "7937    Redmi Note 8 Pro Premium Edition  \n",
       "Name: 0, Length: 7938, dtype: object"
      ]
     },
     "execution_count": 119,
     "metadata": {},
     "output_type": "execute_result"
    }
   ],
   "source": [
    "df_merged[\"Model\"].str.split(\"Sim\", expand=True)[0].str.split(\"SIM\", expand=True)[0].str.replace(\"Dual\", \"\")"
   ]
  },
  {
   "cell_type": "code",
   "execution_count": 11,
   "metadata": {},
   "outputs": [],
   "source": [
    "# get the phone names \n",
    "# split model \n",
    "# get the index until you find sim \n",
    "\n",
    "model_names = (df_merged['Model']\n",
    "    .str\n",
    "    .split('SIM', expand=True)[0]\n",
    "    .str\n",
    "    .replace('Dual', \"\")\n",
    "    .str\n",
    "    .split('Sim', expand=True)[0]\n",
    "    )"
   ]
  },
  {
   "cell_type": "code",
   "execution_count": 77,
   "metadata": {},
   "outputs": [
    {
     "data": {
      "application/vnd.jupyter.widget-view+json": {
       "model_id": "e4f9959720ab400b92628db0f4391835",
       "version_major": 2,
       "version_minor": 0
      },
      "text/plain": [
       "  0%|          | 0/7938 [00:00<?, ?it/s]"
      ]
     },
     "metadata": {},
     "output_type": "display_data"
    }
   ],
   "source": [
    "failed_lst = []\n",
    "pbar = tqdm(total=len(model_names))\n",
    "\n",
    "def get_flipkar_link(phone_name: str) -> str:\n",
    "    return f'https://www.flipkart.com/search?q={phone_name}'\n",
    "\n",
    "async def get_phone_price(session:aiohttp.ClientSession, phone_name: str) -> str:\n",
    "    flipkart_link = get_flipkar_link(phone_name)\n",
    "    async with session.get(flipkart_link) as response:\n",
    "        soup = BeautifulSoup(await response.text(), 'html.parser')\n",
    "        try:\n",
    "            price = soup.find('div', {'class': '_30jeq3 _1_WHN1'}).text\n",
    "        except AttributeError:\n",
    "            failed_lst.append(phone_name)\n",
    "            price = np.nan\n",
    "        pbar.update(1)\n",
    "        return price\n",
    "\n",
    "async def get_phone_prices(session:aiohttp.ClientSession, phone_names: list) -> list:\n",
    "    prices = await asyncio.gather(*[get_phone_price(session, phone_name) for phone_name in phone_names])\n",
    "    return prices\n",
    "\n",
    "timeout_mins = aiohttp.ClientTimeout( 20 * 60 )\n",
    "async def fetch_phone_data(phones_names: list):\n",
    "    async with aiohttp.ClientSession(timeout=timeout_mins) as session:\n",
    "        prices = await get_phone_prices(session, phones_names)\n",
    "        return prices\n",
    "\n",
    "phones_names = df_merged['Brand'] + ' ' + model_names\n",
    "prices = await fetch_phone_data(phones_names)"
   ]
  },
  {
   "cell_type": "code",
   "execution_count": 17,
   "metadata": {},
   "outputs": [
    {
     "name": "stdout",
     "output_type": "stream",
     "text": [
      "4082\n",
      "7938\n"
     ]
    }
   ],
   "source": [
    "print(len(failed_lst))\n",
    "print(len(df_merged))"
   ]
  },
  {
   "cell_type": "code",
   "execution_count": 18,
   "metadata": {},
   "outputs": [],
   "source": [
    "# merge prices and df_merged \n",
    "df_merged['Price'] = prices"
   ]
  },
  {
   "cell_type": "code",
   "execution_count": 43,
   "metadata": {},
   "outputs": [],
   "source": [
    "# drop the row if brand and  model are none\n",
    "_df_merged = df_merged.dropna(subset=['Brand', 'Model', \"Released\"])\n",
    "_df_merged.shape, df_merged.shape\n",
    "df_merged = _df_merged.copy()"
   ]
  },
  {
   "cell_type": "code",
   "execution_count": 47,
   "metadata": {},
   "outputs": [],
   "source": [
    "def get_long_month(month: str) -> str:\n",
    "    short_long_year_dict = {\n",
    "        \"Jan\" : \"January\",\n",
    "        \"Feb\" : \"February\",\n",
    "        \"Mar\" : \"March\",\n",
    "        \"Apr\" : \"April\",\n",
    "        \"May\" : \"May\",\n",
    "        \"Jun\" : \"June\",\n",
    "        \"Jul\" : \"July\",\n",
    "        \"Aug\" : \"August\",\n",
    "        \"Sep\" : \"September\",\n",
    "        \"Oct\" : \"October\",\n",
    "        \"Nov\" : \"November\",\n",
    "        \"Dec\" : \"December\"\n",
    "    }\n",
    "\n",
    "    return short_long_year_dict[month]"
   ]
  },
  {
   "cell_type": "code",
   "execution_count": null,
   "metadata": {},
   "outputs": [],
   "source": [
    "df_merged"
   ]
  },
  {
   "cell_type": "code",
   "execution_count": 53,
   "metadata": {},
   "outputs": [],
   "source": [
    "# split the string of date into year, month, day\n",
    "_split_data = df_merged['Released'].str.split(' ', expand=True)\n",
    "_split_data.fillna(\"Jan\", inplace=True)\n",
    "year_col = _split_data[0]\n",
    "month_col = _split_data[1].apply(get_long_month)\n",
    "\n",
    "df_merged[\"Released Year\"] = year_col\n",
    "df_merged[\"Released Month\"] = month_col"
   ]
  },
  {
   "cell_type": "code",
   "execution_count": 55,
   "metadata": {},
   "outputs": [],
   "source": [
    "# sort df_merged on basis of  released year and month\n",
    "df_merged_date_sorted  = df_merged.sort_values(by=['Released Year', 'Released Month'])"
   ]
  },
  {
   "cell_type": "code",
   "execution_count": 63,
   "metadata": {},
   "outputs": [
    {
     "data": {
      "text/plain": [
       "<AxesSubplot:xlabel='0'>"
      ]
     },
     "execution_count": 63,
     "metadata": {},
     "output_type": "execute_result"
    },
    {
     "data": {
      "image/png": "[encoded data removed]",
      "text/plain": [
       "<Figure size 432x288 with 1 Axes>"
      ]
     },
     "metadata": {
      "needs_background": "light"
     },
     "output_type": "display_data"
    }
   ],
   "source": [
    "data = df_merged_date_sorted[[\"Brand\", \"Price\"]].isna()\n",
    "sns.heatmap(data, cbar=False)"
   ]
  },
  {
   "cell_type": "code",
   "execution_count": 68,
   "metadata": {},
   "outputs": [
    {
     "data": {
      "text/plain": [
       "(230, 47)"
      ]
     },
     "execution_count": 68,
     "metadata": {},
     "output_type": "execute_result"
    }
   ],
   "source": [
    "# find the length of phones before year 2017\n",
    "df_merged_date_sorted[df_merged_date_sorted['Released Year'] < '2017'].shape"
   ]
  },
  {
   "cell_type": "code",
   "execution_count": 72,
   "metadata": {},
   "outputs": [],
   "source": [
    "# collect the brands that have price as nan\n",
    "df_merged_price_nan = df_merged.loc[df_merged['Price'].isna()]"
   ]
  },
  {
   "cell_type": "code",
   "execution_count": 74,
   "metadata": {},
   "outputs": [
    {
     "data": {
      "text/plain": [
       "(4078, 47)"
      ]
     },
     "execution_count": 74,
     "metadata": {},
     "output_type": "execute_result"
    }
   ],
   "source": [
    "df_merged_price_nan.shape"
   ]
  },
  {
   "cell_type": "code",
   "execution_count": 78,
   "metadata": {},
   "outputs": [],
   "source": [
    "phones_names = df_merged_price_nan['Brand'] + ' ' + df_merged_price_nan[\"Model\"]\n",
    "prices = await fetch_phone_data(phones_names)"
   ]
  },
  {
   "cell_type": "code",
   "execution_count": 82,
   "metadata": {},
   "outputs": [
    {
     "name": "stderr",
     "output_type": "stream",
     "text": [
      "C:\\Users\\Administrator\\AppData\\Local\\Temp\\ipykernel_22340\\3752623202.py:1: SettingWithCopyWarning: \n",
      "A value is trying to be set on a copy of a slice from a DataFrame.\n",
      "Try using .loc[row_indexer,col_indexer] = value instead\n",
      "\n",
      "See the caveats in the documentation: https://pandas.pydata.org/pandas-docs/stable/user_guide/indexing.html#returning-a-view-versus-a-copy\n",
      "  df_merged_price_nan['Price'] = prices\n"
     ]
    }
   ],
   "source": [
    "df_merged_price_nan['Price'] = prices"
   ]
  },
  {
   "cell_type": "code",
   "execution_count": 89,
   "metadata": {},
   "outputs": [
    {
     "data": {
      "text/html": [
       "<div>\n",
       "<style scoped>\n",
       "    .dataframe tbody tr th:only-of-type {\n",
       "        vertical-align: middle;\n",
       "    }\n",
       "\n",
       "    .dataframe tbody tr th {\n",
       "        vertical-align: top;\n",
       "    }\n",
       "\n",
       "    .dataframe thead th {\n",
       "        text-align: right;\n",
       "    }\n",
       "</style>\n",
       "<table border=\"1\" class=\"dataframe\">\n",
       "  <thead>\n",
       "    <tr style=\"text-align: right;\">\n",
       "      <th>0</th>\n",
       "      <th>Brand</th>\n",
       "      <th>Model</th>\n",
       "      <th>Released</th>\n",
       "      <th>Announced</th>\n",
       "      <th>Width</th>\n",
       "      <th>Height</th>\n",
       "      <th>Depth</th>\n",
       "      <th>Platform</th>\n",
       "      <th>Operating System</th>\n",
       "      <th>CPU Clock</th>\n",
       "      <th>...</th>\n",
       "      <th>WLAN Controller IC</th>\n",
       "      <th>NFC</th>\n",
       "      <th>Aperture (W)</th>\n",
       "      <th>Secondary Camera Number of effective pixels</th>\n",
       "      <th>Secondary Camera Aperture (W)</th>\n",
       "      <th>Nominal Cell Voltage (1st cell)</th>\n",
       "      <th>Estimated Battery Life</th>\n",
       "      <th>Price</th>\n",
       "      <th>Released Year</th>\n",
       "      <th>Released Month</th>\n",
       "    </tr>\n",
       "  </thead>\n",
       "  <tbody>\n",
       "    <tr>\n",
       "      <th>17</th>\n",
       "      <td>Oppo</td>\n",
       "      <td>Realme GT Master Premium Edition 5G Dual SIM T...</td>\n",
       "      <td>2021 Aug 26</td>\n",
       "      <td>2021 Aug 17</td>\n",
       "      <td>73.5 mm</td>\n",
       "      <td>159.2 mm</td>\n",
       "      <td>8.7 mm</td>\n",
       "      <td>Google Android</td>\n",
       "      <td>Google Android 11 (R)</td>\n",
       "      <td>2400 MHz</td>\n",
       "      <td>...</td>\n",
       "      <td>NaN</td>\n",
       "      <td>NFC A , NFC B</td>\n",
       "      <td>f/1.80</td>\n",
       "      <td>NaN</td>\n",
       "      <td>NaN</td>\n",
       "      <td>NaN</td>\n",
       "      <td>NaN</td>\n",
       "      <td>₹29,999</td>\n",
       "      <td>2021</td>\n",
       "      <td>August</td>\n",
       "    </tr>\n",
       "    <tr>\n",
       "      <th>30</th>\n",
       "      <td>LG</td>\n",
       "      <td>G8X ThinQ TD-LTE JP 901LG</td>\n",
       "      <td>2019 Dec 6</td>\n",
       "      <td>2019 Oct 17</td>\n",
       "      <td>76 mm</td>\n",
       "      <td>160 mm</td>\n",
       "      <td>8.4 mm</td>\n",
       "      <td>Google Android</td>\n",
       "      <td>Google Android 9.0 (Pie)</td>\n",
       "      <td>2842 MHz</td>\n",
       "      <td>...</td>\n",
       "      <td>NaN</td>\n",
       "      <td>NFC A , NFC B</td>\n",
       "      <td>f/1.80</td>\n",
       "      <td>NaN</td>\n",
       "      <td>NaN</td>\n",
       "      <td>NaN</td>\n",
       "      <td>NaN</td>\n",
       "      <td>₹55,000</td>\n",
       "      <td>2019</td>\n",
       "      <td>December</td>\n",
       "    </tr>\n",
       "    <tr>\n",
       "      <th>54</th>\n",
       "      <td>Highscreen</td>\n",
       "      <td>Easy S Dual SIM</td>\n",
       "      <td>2015 Nov</td>\n",
       "      <td>NaN</td>\n",
       "      <td>71.5 mm</td>\n",
       "      <td>143 mm</td>\n",
       "      <td>8.5 mm</td>\n",
       "      <td>Google Android</td>\n",
       "      <td>Google Android 6.0 (Marshmallow)</td>\n",
       "      <td>1300 MHz</td>\n",
       "      <td>...</td>\n",
       "      <td>NaN</td>\n",
       "      <td>NaN</td>\n",
       "      <td>NaN</td>\n",
       "      <td>NaN</td>\n",
       "      <td>NaN</td>\n",
       "      <td>NaN</td>\n",
       "      <td>NaN</td>\n",
       "      <td>₹7,999</td>\n",
       "      <td>2015</td>\n",
       "      <td>November</td>\n",
       "    </tr>\n",
       "    <tr>\n",
       "      <th>61</th>\n",
       "      <td>Samsung</td>\n",
       "      <td>SM-R800 Galaxy Watch 46mm WiFi</td>\n",
       "      <td>2018 Sep 2</td>\n",
       "      <td>2018 Aug 9</td>\n",
       "      <td>46 mm</td>\n",
       "      <td>49 mm</td>\n",
       "      <td>13 mm</td>\n",
       "      <td>Linux</td>\n",
       "      <td>Samsung Tizen Wearable Platform</td>\n",
       "      <td>1150 MHz</td>\n",
       "      <td>...</td>\n",
       "      <td>NaN</td>\n",
       "      <td>Yes</td>\n",
       "      <td>NaN</td>\n",
       "      <td>NaN</td>\n",
       "      <td>NaN</td>\n",
       "      <td>NaN</td>\n",
       "      <td>NaN</td>\n",
       "      <td>₹34,890</td>\n",
       "      <td>2018</td>\n",
       "      <td>September</td>\n",
       "    </tr>\n",
       "    <tr>\n",
       "      <th>65</th>\n",
       "      <td>Intex</td>\n",
       "      <td>Aqua Note 5.5 Dual SIM TD-LTE</td>\n",
       "      <td>2017 Oct 4</td>\n",
       "      <td>2017 Sep 1</td>\n",
       "      <td>77.5 mm</td>\n",
       "      <td>153 mm</td>\n",
       "      <td>10.3 mm</td>\n",
       "      <td>Google Android</td>\n",
       "      <td>Google Android 7.0 (Nougat)</td>\n",
       "      <td>1250 MHz</td>\n",
       "      <td>...</td>\n",
       "      <td>NaN</td>\n",
       "      <td>NaN</td>\n",
       "      <td>NaN</td>\n",
       "      <td>NaN</td>\n",
       "      <td>NaN</td>\n",
       "      <td>NaN</td>\n",
       "      <td>NaN</td>\n",
       "      <td>₹7,490</td>\n",
       "      <td>2017</td>\n",
       "      <td>October</td>\n",
       "    </tr>\n",
       "    <tr>\n",
       "      <th>...</th>\n",
       "      <td>...</td>\n",
       "      <td>...</td>\n",
       "      <td>...</td>\n",
       "      <td>...</td>\n",
       "      <td>...</td>\n",
       "      <td>...</td>\n",
       "      <td>...</td>\n",
       "      <td>...</td>\n",
       "      <td>...</td>\n",
       "      <td>...</td>\n",
       "      <td>...</td>\n",
       "      <td>...</td>\n",
       "      <td>...</td>\n",
       "      <td>...</td>\n",
       "      <td>...</td>\n",
       "      <td>...</td>\n",
       "      <td>...</td>\n",
       "      <td>...</td>\n",
       "      <td>...</td>\n",
       "      <td>...</td>\n",
       "      <td>...</td>\n",
       "    </tr>\n",
       "    <tr>\n",
       "      <th>7834</th>\n",
       "      <td>Samsung</td>\n",
       "      <td>SM-A226B/DSN Galaxy A22 5G 2021 Global Dual SI...</td>\n",
       "      <td>2021 Jul</td>\n",
       "      <td>2021 Jun 3</td>\n",
       "      <td>77.6 mm</td>\n",
       "      <td>167.2 mm</td>\n",
       "      <td>9 mm</td>\n",
       "      <td>Google Android</td>\n",
       "      <td>Google Android 11 (R)</td>\n",
       "      <td>2200 MHz</td>\n",
       "      <td>...</td>\n",
       "      <td>NaN</td>\n",
       "      <td>NFC A , NFC B</td>\n",
       "      <td>f/1.80</td>\n",
       "      <td>NaN</td>\n",
       "      <td>NaN</td>\n",
       "      <td>NaN</td>\n",
       "      <td>NaN</td>\n",
       "      <td>₹59,999</td>\n",
       "      <td>2021</td>\n",
       "      <td>July</td>\n",
       "    </tr>\n",
       "    <tr>\n",
       "      <th>7856</th>\n",
       "      <td>OnePlus</td>\n",
       "      <td>6 Dual SIM Global TD-LTE A6003 256GB</td>\n",
       "      <td>2018 May 22</td>\n",
       "      <td>2018 May 16</td>\n",
       "      <td>75.35 mm</td>\n",
       "      <td>155.7 mm</td>\n",
       "      <td>7.75 mm</td>\n",
       "      <td>Google Android</td>\n",
       "      <td>Google Android 8.1 (Oreo)</td>\n",
       "      <td>2800 MHz</td>\n",
       "      <td>...</td>\n",
       "      <td>Qualcomm WCN3990</td>\n",
       "      <td>NFC A , NFC B</td>\n",
       "      <td>NaN</td>\n",
       "      <td>NaN</td>\n",
       "      <td>NaN</td>\n",
       "      <td>3.85 Volts</td>\n",
       "      <td>NaN</td>\n",
       "      <td>₹42,999</td>\n",
       "      <td>2018</td>\n",
       "      <td>May</td>\n",
       "    </tr>\n",
       "    <tr>\n",
       "      <th>7865</th>\n",
       "      <td>Google</td>\n",
       "      <td>Pixel 6 Pro 5G Global TD-LTE 128GB GLUOG</td>\n",
       "      <td>2021 Oct 28</td>\n",
       "      <td>2021 Oct 19</td>\n",
       "      <td>75.9 mm</td>\n",
       "      <td>163.9 mm</td>\n",
       "      <td>8.9 mm</td>\n",
       "      <td>Google Android</td>\n",
       "      <td>Google Android 12 (S)</td>\n",
       "      <td>2800 MHz</td>\n",
       "      <td>...</td>\n",
       "      <td>Broadcom BCM4389</td>\n",
       "      <td>NFC A , NFC B</td>\n",
       "      <td>f/1.85</td>\n",
       "      <td>NaN</td>\n",
       "      <td>NaN</td>\n",
       "      <td>NaN</td>\n",
       "      <td>48.0 hours</td>\n",
       "      <td>₹84,999</td>\n",
       "      <td>2021</td>\n",
       "      <td>October</td>\n",
       "    </tr>\n",
       "    <tr>\n",
       "      <th>7894</th>\n",
       "      <td>BBK</td>\n",
       "      <td>Vivo Y20T 2021 Dual SIM TD-LTE IN 64GB V2129</td>\n",
       "      <td>2021 Oct</td>\n",
       "      <td>2021 Oct 11</td>\n",
       "      <td>76.32 mm</td>\n",
       "      <td>164.41 mm</td>\n",
       "      <td>8.41 mm</td>\n",
       "      <td>Google Android</td>\n",
       "      <td>Google Android 11 (R)</td>\n",
       "      <td>2000 MHz</td>\n",
       "      <td>...</td>\n",
       "      <td>NaN</td>\n",
       "      <td>NaN</td>\n",
       "      <td>f/2.20</td>\n",
       "      <td>NaN</td>\n",
       "      <td>NaN</td>\n",
       "      <td>NaN</td>\n",
       "      <td>NaN</td>\n",
       "      <td>₹15,890</td>\n",
       "      <td>2021</td>\n",
       "      <td>October</td>\n",
       "    </tr>\n",
       "    <tr>\n",
       "      <th>7895</th>\n",
       "      <td>verykool</td>\n",
       "      <td>Rocket SL5565 Dual SIM LTE</td>\n",
       "      <td>2017 Aug 3</td>\n",
       "      <td>NaN</td>\n",
       "      <td>79.2 mm</td>\n",
       "      <td>156.4 mm</td>\n",
       "      <td>8.8 mm</td>\n",
       "      <td>Google Android</td>\n",
       "      <td>Google Android 7.0 (Nougat)</td>\n",
       "      <td>1300 MHz</td>\n",
       "      <td>...</td>\n",
       "      <td>NaN</td>\n",
       "      <td>NaN</td>\n",
       "      <td>f/2.20</td>\n",
       "      <td>NaN</td>\n",
       "      <td>NaN</td>\n",
       "      <td>NaN</td>\n",
       "      <td>NaN</td>\n",
       "      <td>₹239</td>\n",
       "      <td>2017</td>\n",
       "      <td>August</td>\n",
       "    </tr>\n",
       "  </tbody>\n",
       "</table>\n",
       "<p>428 rows × 47 columns</p>\n",
       "</div>"
      ],
      "text/plain": [
       "0          Brand                                              Model  \\\n",
       "17          Oppo  Realme GT Master Premium Edition 5G Dual SIM T...   \n",
       "30            LG                          G8X ThinQ TD-LTE JP 901LG   \n",
       "54    Highscreen                                    Easy S Dual SIM   \n",
       "61       Samsung                     SM-R800 Galaxy Watch 46mm WiFi   \n",
       "65         Intex                      Aqua Note 5.5 Dual SIM TD-LTE   \n",
       "...          ...                                                ...   \n",
       "7834     Samsung  SM-A226B/DSN Galaxy A22 5G 2021 Global Dual SI...   \n",
       "7856     OnePlus               6 Dual SIM Global TD-LTE A6003 256GB   \n",
       "7865      Google           Pixel 6 Pro 5G Global TD-LTE 128GB GLUOG   \n",
       "7894         BBK       Vivo Y20T 2021 Dual SIM TD-LTE IN 64GB V2129   \n",
       "7895    verykool                         Rocket SL5565 Dual SIM LTE   \n",
       "\n",
       "0        Released    Announced     Width     Height    Depth        Platform  \\\n",
       "17    2021 Aug 26  2021 Aug 17   73.5 mm   159.2 mm   8.7 mm  Google Android   \n",
       "30     2019 Dec 6  2019 Oct 17     76 mm     160 mm   8.4 mm  Google Android   \n",
       "54       2015 Nov          NaN   71.5 mm     143 mm   8.5 mm  Google Android   \n",
       "61     2018 Sep 2   2018 Aug 9     46 mm      49 mm    13 mm           Linux   \n",
       "65     2017 Oct 4   2017 Sep 1   77.5 mm     153 mm  10.3 mm  Google Android   \n",
       "...           ...          ...       ...        ...      ...             ...   \n",
       "7834     2021 Jul   2021 Jun 3   77.6 mm   167.2 mm     9 mm  Google Android   \n",
       "7856  2018 May 22  2018 May 16  75.35 mm   155.7 mm  7.75 mm  Google Android   \n",
       "7865  2021 Oct 28  2021 Oct 19   75.9 mm   163.9 mm   8.9 mm  Google Android   \n",
       "7894     2021 Oct  2021 Oct 11  76.32 mm  164.41 mm  8.41 mm  Google Android   \n",
       "7895   2017 Aug 3          NaN   79.2 mm   156.4 mm   8.8 mm  Google Android   \n",
       "\n",
       "0                     Operating System CPU Clock  ... WLAN Controller IC  \\\n",
       "17               Google Android 11 (R)  2400 MHz  ...                NaN   \n",
       "30            Google Android 9.0 (Pie)  2842 MHz  ...                NaN   \n",
       "54    Google Android 6.0 (Marshmallow)  1300 MHz  ...                NaN   \n",
       "61     Samsung Tizen Wearable Platform  1150 MHz  ...                NaN   \n",
       "65         Google Android 7.0 (Nougat)  1250 MHz  ...                NaN   \n",
       "...                                ...       ...  ...                ...   \n",
       "7834             Google Android 11 (R)  2200 MHz  ...                NaN   \n",
       "7856         Google Android 8.1 (Oreo)  2800 MHz  ...   Qualcomm WCN3990   \n",
       "7865             Google Android 12 (S)  2800 MHz  ...   Broadcom BCM4389   \n",
       "7894             Google Android 11 (R)  2000 MHz  ...                NaN   \n",
       "7895       Google Android 7.0 (Nougat)  1300 MHz  ...                NaN   \n",
       "\n",
       "0               NFC Aperture (W) Secondary Camera Number of effective pixels  \\\n",
       "17    NFC A , NFC B       f/1.80                                         NaN   \n",
       "30    NFC A , NFC B       f/1.80                                         NaN   \n",
       "54              NaN          NaN                                         NaN   \n",
       "61              Yes          NaN                                         NaN   \n",
       "65              NaN          NaN                                         NaN   \n",
       "...             ...          ...                                         ...   \n",
       "7834  NFC A , NFC B       f/1.80                                         NaN   \n",
       "7856  NFC A , NFC B          NaN                                         NaN   \n",
       "7865  NFC A , NFC B       f/1.85                                         NaN   \n",
       "7894            NaN       f/2.20                                         NaN   \n",
       "7895            NaN       f/2.20                                         NaN   \n",
       "\n",
       "0    Secondary Camera Aperture (W) Nominal Cell Voltage (1st cell)  \\\n",
       "17                             NaN                             NaN   \n",
       "30                             NaN                             NaN   \n",
       "54                             NaN                             NaN   \n",
       "61                             NaN                             NaN   \n",
       "65                             NaN                             NaN   \n",
       "...                            ...                             ...   \n",
       "7834                           NaN                             NaN   \n",
       "7856                           NaN                      3.85 Volts   \n",
       "7865                           NaN                             NaN   \n",
       "7894                           NaN                             NaN   \n",
       "7895                           NaN                             NaN   \n",
       "\n",
       "0    Estimated Battery Life    Price Released Year Released Month  \n",
       "17                      NaN  ₹29,999          2021         August  \n",
       "30                      NaN  ₹55,000          2019       December  \n",
       "54                      NaN   ₹7,999          2015       November  \n",
       "61                      NaN  ₹34,890          2018      September  \n",
       "65                      NaN   ₹7,490          2017        October  \n",
       "...                     ...      ...           ...            ...  \n",
       "7834                    NaN  ₹59,999          2021           July  \n",
       "7856                    NaN  ₹42,999          2018            May  \n",
       "7865             48.0 hours  ₹84,999          2021        October  \n",
       "7894                    NaN  ₹15,890          2021        October  \n",
       "7895                    NaN     ₹239          2017         August  \n",
       "\n",
       "[428 rows x 47 columns]"
      ]
     },
     "execution_count": 89,
     "metadata": {},
     "output_type": "execute_result"
    }
   ],
   "source": [
    "# print not null values in the table\n",
    "df_merged_price_nan[df_merged_price_nan['Price'].notnull()]"
   ]
  },
  {
   "cell_type": "code",
   "execution_count": 84,
   "metadata": {},
   "outputs": [],
   "source": [
    "df_merged = df_merged.merge(df_merged_price_nan, how='outer')"
   ]
  },
  {
   "cell_type": "code",
   "execution_count": 94,
   "metadata": {},
   "outputs": [],
   "source": [
    "df_merged.to_csv('./data/phone_db_merged_with_nulls.csv', index=False)"
   ]
  },
  {
   "cell_type": "code",
   "execution_count": 95,
   "metadata": {},
   "outputs": [],
   "source": [
    "df_merged.dropna(subset=['Price'], inplace=True)\n",
    "df_merged.to_csv('./data/phone_db_merged_no_price_nulls.csv', index=False)"
   ]
  },
  {
   "cell_type": "code",
   "execution_count": 54,
   "metadata": {},
   "outputs": [
    {
     "data": {
      "text/html": [
       "<div>\n",
       "<style scoped>\n",
       "    .dataframe tbody tr th:only-of-type {\n",
       "        vertical-align: middle;\n",
       "    }\n",
       "\n",
       "    .dataframe tbody tr th {\n",
       "        vertical-align: top;\n",
       "    }\n",
       "\n",
       "    .dataframe thead th {\n",
       "        text-align: right;\n",
       "    }\n",
       "</style>\n",
       "<table border=\"1\" class=\"dataframe\">\n",
       "  <thead>\n",
       "    <tr style=\"text-align: right;\">\n",
       "      <th>0</th>\n",
       "      <th>Brand</th>\n",
       "      <th>Model</th>\n",
       "      <th>Released</th>\n",
       "      <th>Announced</th>\n",
       "      <th>Width</th>\n",
       "      <th>Height</th>\n",
       "      <th>Depth</th>\n",
       "      <th>Platform</th>\n",
       "      <th>Operating System</th>\n",
       "      <th>CPU Clock</th>\n",
       "      <th>...</th>\n",
       "      <th>WLAN Controller IC</th>\n",
       "      <th>NFC</th>\n",
       "      <th>Aperture (W)</th>\n",
       "      <th>Secondary Camera Number of effective pixels</th>\n",
       "      <th>Secondary Camera Aperture (W)</th>\n",
       "      <th>Nominal Cell Voltage (1st cell)</th>\n",
       "      <th>Estimated Battery Life</th>\n",
       "      <th>Price</th>\n",
       "      <th>Released Year</th>\n",
       "      <th>Released Month</th>\n",
       "    </tr>\n",
       "  </thead>\n",
       "  <tbody>\n",
       "    <tr>\n",
       "      <th>0</th>\n",
       "      <td>Plum Mobile</td>\n",
       "      <td>Compass Z516</td>\n",
       "      <td>2017 Jan 12</td>\n",
       "      <td>2016 Dec</td>\n",
       "      <td>72.6 mm</td>\n",
       "      <td>146 mm</td>\n",
       "      <td>9.8 mm</td>\n",
       "      <td>Google Android</td>\n",
       "      <td>Google Android 6.0 (Marshmallow)</td>\n",
       "      <td>1300 MHz</td>\n",
       "      <td>...</td>\n",
       "      <td>NaN</td>\n",
       "      <td>NaN</td>\n",
       "      <td>NaN</td>\n",
       "      <td>NaN</td>\n",
       "      <td>NaN</td>\n",
       "      <td>NaN</td>\n",
       "      <td>NaN</td>\n",
       "      <td>NaN</td>\n",
       "      <td>2017</td>\n",
       "      <td>January</td>\n",
       "    </tr>\n",
       "    <tr>\n",
       "      <th>1</th>\n",
       "      <td>Huawei</td>\n",
       "      <td>Honor 9 Lite Dual SIM TD-LTE CN 32GB LLD-AL10 ...</td>\n",
       "      <td>2017 Dec 26</td>\n",
       "      <td>2017 Dec 21</td>\n",
       "      <td>71.9 mm</td>\n",
       "      <td>151 mm</td>\n",
       "      <td>7.6 mm</td>\n",
       "      <td>Google Android</td>\n",
       "      <td>Google Android 8.0 (Oreo)</td>\n",
       "      <td>2362 MHz</td>\n",
       "      <td>...</td>\n",
       "      <td>NaN</td>\n",
       "      <td>NaN</td>\n",
       "      <td>NaN</td>\n",
       "      <td>NaN</td>\n",
       "      <td>NaN</td>\n",
       "      <td>3.82 Volts</td>\n",
       "      <td>NaN</td>\n",
       "      <td>₹16,949</td>\n",
       "      <td>2017</td>\n",
       "      <td>December</td>\n",
       "    </tr>\n",
       "    <tr>\n",
       "      <th>2</th>\n",
       "      <td>Blackview</td>\n",
       "      <td>BV7000 Pro 4G Dual Sim LTE-A</td>\n",
       "      <td>2017 Feb</td>\n",
       "      <td>2017 Feb</td>\n",
       "      <td>78.9 mm</td>\n",
       "      <td>153 mm</td>\n",
       "      <td>12.6 mm</td>\n",
       "      <td>Google Android</td>\n",
       "      <td>Google Android 7.0 (Nougat)</td>\n",
       "      <td>1510 MHz</td>\n",
       "      <td>...</td>\n",
       "      <td>NaN</td>\n",
       "      <td>NaN</td>\n",
       "      <td>f/2.00</td>\n",
       "      <td>NaN</td>\n",
       "      <td>NaN</td>\n",
       "      <td>NaN</td>\n",
       "      <td>NaN</td>\n",
       "      <td>₹799</td>\n",
       "      <td>2017</td>\n",
       "      <td>February</td>\n",
       "    </tr>\n",
       "    <tr>\n",
       "      <th>3</th>\n",
       "      <td>Nokia</td>\n",
       "      <td>7.2 Global Dual SIM TD-LTE 128GB</td>\n",
       "      <td>2019 Sep 23</td>\n",
       "      <td>2019 Sep 16</td>\n",
       "      <td>75.15 mm</td>\n",
       "      <td>159.92 mm</td>\n",
       "      <td>8.25 mm</td>\n",
       "      <td>Google Android</td>\n",
       "      <td>Google Android 9.0 (Pie)</td>\n",
       "      <td>2200 MHz</td>\n",
       "      <td>...</td>\n",
       "      <td>NaN</td>\n",
       "      <td>NFC A , NFC B</td>\n",
       "      <td>f/1.80</td>\n",
       "      <td>NaN</td>\n",
       "      <td>NaN</td>\n",
       "      <td>NaN</td>\n",
       "      <td>NaN</td>\n",
       "      <td>₹1,692</td>\n",
       "      <td>2019</td>\n",
       "      <td>September</td>\n",
       "    </tr>\n",
       "    <tr>\n",
       "      <th>4</th>\n",
       "      <td>Lenovo</td>\n",
       "      <td>Z6 Standard Edition Dual SIM TD-LTE CN 128GB L...</td>\n",
       "      <td>2019 Jul 4</td>\n",
       "      <td>2019 Jul 1</td>\n",
       "      <td>74.5 mm</td>\n",
       "      <td>157 mm</td>\n",
       "      <td>7.97 mm</td>\n",
       "      <td>Google Android</td>\n",
       "      <td>Google Android 9.0 (Pie)</td>\n",
       "      <td>2200 MHz</td>\n",
       "      <td>...</td>\n",
       "      <td>NaN</td>\n",
       "      <td>NaN</td>\n",
       "      <td>f/1.80</td>\n",
       "      <td>NaN</td>\n",
       "      <td>NaN</td>\n",
       "      <td>3.85 Volts</td>\n",
       "      <td>NaN</td>\n",
       "      <td>₹1,199</td>\n",
       "      <td>2019</td>\n",
       "      <td>July</td>\n",
       "    </tr>\n",
       "  </tbody>\n",
       "</table>\n",
       "<p>5 rows × 47 columns</p>\n",
       "</div>"
      ],
      "text/plain": [
       "0        Brand                                              Model  \\\n",
       "0  Plum Mobile                                       Compass Z516   \n",
       "1       Huawei  Honor 9 Lite Dual SIM TD-LTE CN 32GB LLD-AL10 ...   \n",
       "2    Blackview                       BV7000 Pro 4G Dual Sim LTE-A   \n",
       "3        Nokia                   7.2 Global Dual SIM TD-LTE 128GB   \n",
       "4       Lenovo  Z6 Standard Edition Dual SIM TD-LTE CN 128GB L...   \n",
       "\n",
       "0     Released    Announced     Width     Height    Depth        Platform  \\\n",
       "0  2017 Jan 12     2016 Dec   72.6 mm     146 mm   9.8 mm  Google Android   \n",
       "1  2017 Dec 26  2017 Dec 21   71.9 mm     151 mm   7.6 mm  Google Android   \n",
       "2     2017 Feb     2017 Feb   78.9 mm     153 mm  12.6 mm  Google Android   \n",
       "3  2019 Sep 23  2019 Sep 16  75.15 mm  159.92 mm  8.25 mm  Google Android   \n",
       "4   2019 Jul 4   2019 Jul 1   74.5 mm     157 mm  7.97 mm  Google Android   \n",
       "\n",
       "0                  Operating System CPU Clock  ... WLAN Controller IC  \\\n",
       "0  Google Android 6.0 (Marshmallow)  1300 MHz  ...                NaN   \n",
       "1         Google Android 8.0 (Oreo)  2362 MHz  ...                NaN   \n",
       "2       Google Android 7.0 (Nougat)  1510 MHz  ...                NaN   \n",
       "3          Google Android 9.0 (Pie)  2200 MHz  ...                NaN   \n",
       "4          Google Android 9.0 (Pie)  2200 MHz  ...                NaN   \n",
       "\n",
       "0            NFC Aperture (W) Secondary Camera Number of effective pixels  \\\n",
       "0            NaN          NaN                                         NaN   \n",
       "1            NaN          NaN                                         NaN   \n",
       "2            NaN       f/2.00                                         NaN   \n",
       "3  NFC A , NFC B       f/1.80                                         NaN   \n",
       "4            NaN       f/1.80                                         NaN   \n",
       "\n",
       "0 Secondary Camera Aperture (W) Nominal Cell Voltage (1st cell)  \\\n",
       "0                           NaN                             NaN   \n",
       "1                           NaN                      3.82 Volts   \n",
       "2                           NaN                             NaN   \n",
       "3                           NaN                             NaN   \n",
       "4                           NaN                      3.85 Volts   \n",
       "\n",
       "0 Estimated Battery Life    Price Released Year Released Month  \n",
       "0                    NaN      NaN          2017        January  \n",
       "1                    NaN  ₹16,949          2017       December  \n",
       "2                    NaN     ₹799          2017       February  \n",
       "3                    NaN   ₹1,692          2019      September  \n",
       "4                    NaN   ₹1,199          2019           July  \n",
       "\n",
       "[5 rows x 47 columns]"
      ]
     },
     "execution_count": 54,
     "metadata": {},
     "output_type": "execute_result"
    }
   ],
   "source": [
    "df_merged.head()"
   ]
  }
 ],
 "metadata": {
  "kernelspec": {
   "display_name": "Python 3.9.3 64-bit",
   "language": "python",
   "name": "python3"
  },
  "language_info": {
   "codemirror_mode": {
    "name": "ipython",
    "version": 3
   },
   "file_extension": ".py",
   "mimetype": "text/x-python",
   "name": "python",
   "nbconvert_exporter": "python",
   "pygments_lexer": "ipython3",
   "version": "3.9.3"
  },
  "orig_nbformat": 4,
  "vscode": {
   "interpreter": {
    "hash": "11938c6bc6919ae2720b4d5011047913343b08a43b18698fd82dedb0d4417594"
   }
  }
 },
 "nbformat": 4,
 "nbformat_minor": 2
}
